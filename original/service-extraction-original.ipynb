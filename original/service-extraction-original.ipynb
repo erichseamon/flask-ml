{
 "cells": [
  {
   "cell_type": "code",
   "execution_count": 20,
   "metadata": {
    "collapsed": false
   },
   "outputs": [],
   "source": [
    "# -*- coding: utf-8 -*-\n",
    "\"\"\"\n",
    "Created on Tue Jan 26 12:31:23 2016\n",
    "\n",
    "@author: vonw\n",
    "\"\"\"\n",
    "\n",
    "%matplotlib nbagg\n",
    "\n",
    "%matplotlib inline\n",
    "\n",
    "import matplotlib.pyplot as plt\n",
    "import pandas as pd\n",
    "\n",
    "from numpy           import array, max, append, mean, ones\n",
    "from matplotlib.mlab import find\n",
    "from netCDF4         import Dataset\n",
    "from datetime        import datetime, timedelta\n",
    "\n",
    "# Latitude and Longitude for Pullman, WA\n",
    "#dlat = 46.74377\n",
    "#dlon = 360. - 117.11579\n",
    "# Latitude and Longitude for Sacramento, CA\n",
    "#dlat = 38.50694\n",
    "#dlon = 360. - 121.495\n",
    "# Latitude and Longitude for Boise, ID\n",
    "dlat = 43.56704\n",
    "dlon = 360. - 116.24053\n",
    "\n",
    "# List of CMIP5 models to read."
   ]
  },
  {
   "cell_type": "code",
   "execution_count": 21,
   "metadata": {
    "collapsed": true
   },
   "outputs": [],
   "source": [
    "\n",
    "models = ['BNU-ESM','CNRM-CM5','CSIRO-Mk3-6-0','bcc-csm1-1','CanESM2','GFDL-ESM2G','GFDL-ESM2M','MIROC5','MIROC-ESM','MIROC-ESM-CHEM','IPSL-CM5A-LR','IPSL-CM5A-MR','IPSL-CM5B-LR','NorESM1-M']\n",
    "# models = ['BNU-ESM','CNRM-CM5','CSIRO-Mk3-6-0']   # for testing..."
   ]
  },
  {
   "cell_type": "code",
   "execution_count": 22,
   "metadata": {
    "collapsed": false
   },
   "outputs": [
    {
     "name": "stdout",
     "output_type": "stream",
     "text": [
      "Processing: BNU-ESM\n",
      "Processing: CNRM-CM5\n",
      "Processing: CSIRO-Mk3-6-0\n",
      "Processing: bcc-csm1-1\n",
      "Processing: CanESM2\n",
      "Processing: GFDL-ESM2G\n",
      "Processing: GFDL-ESM2M\n",
      "Processing: MIROC5\n",
      "Processing: MIROC-ESM\n",
      "Processing: MIROC-ESM-CHEM\n",
      "Processing: IPSL-CM5A-LR\n",
      "Processing: IPSL-CM5A-MR\n",
      "Processing: IPSL-CM5B-LR\n",
      "Processing: NorESM1-M\n"
     ]
    }
   ],
   "source": [
    "\n",
    "\n",
    "maca = pd.DataFrame({})  # Initialize a pandas DataFrame.\n",
    "#   ....The two Hadley Centre models only have 360 days in a year, so I didn't use them here.\n",
    "for model in models:\n",
    "    print('Processing: ' + model)\n",
    "    fn1 = 'http://thredds-dev.nkn.uidaho.edu:8080/thredds/dodsC/agg_macav2metdata_pr_' + model + '_r1i1p1_historical_1950_2005_CONUS_daily.nc';\n",
    "    fn2 = 'http://thredds-dev.nkn.uidaho.edu:8080/thredds/dodsC/agg_macav2metdata_pr_' + model + '_r1i1p1_rcp85_2006_2099_CONUS_daily.nc';\n",
    "\n",
    "    f1  = Dataset(fn1);\n",
    "    f2  = Dataset(fn2);\n",
    "    \n",
    "    lat = f1.variables['lat'][:];\n",
    "    lon = f1.variables['lon'][:];\n",
    "    # Find the lat/lon pixel that contains the desired location\n",
    "    #   THIS IS JUST APPROXIMATE FOR NOW.\n",
    "    ilat = max(find(lat<dlat))\n",
    "    ilon = max(find(lon<dlon))\n",
    "    # Create a time vector.\n",
    "    days = append(f1.variables['time'][:], f2.variables['time'][:])\n",
    "    time = array([timedelta(int(day))+datetime(1900,1,1) for day in days])\n",
    "    # Creater a precip vector.\n",
    "    precip = array(append(f1.variables['precipitation'][:,ilat,ilon], f2.variables['precipitation'][:,ilat,ilon]))\n",
    "    \n",
    "    # add a new column to the DataFrame for each model.\n",
    "    maca[model] = pd.Series(precip, index=time)\n",
    "\n",
    "    f1.close()\n",
    "    f2.close()\n"
   ]
  },
  {
   "cell_type": "code",
   "execution_count": 23,
   "metadata": {
    "collapsed": true
   },
   "outputs": [],
   "source": [
    "# Calculate anomalies.\n",
    "Phist   = maca['1970-1-1':'1999-12-31'].mean().mean()\n",
    "P2030s  = maca['2030-1-1':'2039-12-31'].mean()\n",
    "P2050s  = maca['2050-1-1':'2059-12-31'].mean()\n",
    "anomaly = [P2030s-Phist, P2050s-Phist]"
   ]
  },
  {
   "cell_type": "code",
   "execution_count": 24,
   "metadata": {
    "collapsed": false
   },
   "outputs": [
    {
     "data": {
      "text/plain": [
       "[None, None, None, None]"
      ]
     },
     "execution_count": 24,
     "metadata": {},
     "output_type": "execute_result"
    },
    {
     "data": {
      "image/png": "[encoded data removed]",
      "text/plain": [
       "<matplotlib.figure.Figure at 0x7f29ca8af6d0>"
      ]
     },
     "metadata": {},
     "output_type": "display_data"
    }
   ],
   "source": [
    "# Create boxplot of anomalies.\n",
    "fig, ax1 = plt.subplots()\n",
    "\n",
    "bp = plt.boxplot(anomaly)\n",
    "plt.axis([0.5, 2.5, -1., 1.])\n",
    "plt.setp(bp['boxes'], color='red')\n",
    "plt.setp(bp['whiskers'], color='red',linestyle='-')\n",
    "plt.setp(bp['caps'], color='red')"
   ]
  },
  {
   "cell_type": "code",
   "execution_count": 25,
   "metadata": {
    "collapsed": false
   },
   "outputs": [
    {
     "name": "stdout",
     "output_type": "stream",
     "text": [
      "  agg_filter: unknown\n",
      "  alpha: float (0.0 transparent through 1.0 opaque)         \n",
      "  animated: [True | False]         \n",
      "  axes: an :class:`~matplotlib.axes.Axes` instance         \n",
      "  backgroundcolor: any matplotlib color         \n",
      "  bbox: rectangle prop dict         \n",
      "  clip_box: a :class:`matplotlib.transforms.Bbox` instance         \n",
      "  clip_on: [True | False]         \n",
      "  clip_path: [ (:class:`~matplotlib.path.Path`,         :class:`~matplotlib.transforms.Transform`) |         :class:`~matplotlib.patches.Patch` | None ]         \n",
      "  color: any matplotlib color         \n",
      "  contains: a callable function         \n",
      "  family or fontfamily or fontname or name: [FONTNAME | 'serif' | 'sans-serif' | 'cursive' | 'fantasy' |                   'monospace' ]         \n",
      "  figure: a :class:`matplotlib.figure.Figure` instance         \n",
      "  fontproperties or font_properties: a :class:`matplotlib.font_manager.FontProperties` instance         \n",
      "  gid: an id string         \n",
      "  horizontalalignment or ha: [ 'center' | 'right' | 'left' ]         \n",
      "  label: string or anything printable with '%s' conversion.         \n",
      "  linespacing: float (multiple of font size)         \n",
      "  lod: [True | False]         \n",
      "  multialignment: ['left' | 'right' | 'center' ]         \n",
      "  path_effects: unknown\n",
      "  picker: [None|float|boolean|callable]         \n",
      "  position: (x,y)         \n",
      "  rasterized: [True | False | None]         \n",
      "  rotation: [ angle in degrees | 'vertical' | 'horizontal' ]         \n",
      "  rotation_mode: unknown\n",
      "  size or fontsize: [size in points | 'xx-small' | 'x-small' | 'small' |                   'medium' | 'large' | 'x-large' | 'xx-large' ]         \n",
      "  sketch_params: unknown\n",
      "  snap: unknown\n",
      "  stretch or fontstretch: [a numeric value in range 0-1000 | 'ultra-condensed' |                   'extra-condensed' | 'condensed' | 'semi-condensed' |                   'normal' | 'semi-expanded' | 'expanded' | 'extra-expanded' |                   'ultra-expanded' ]         \n",
      "  style or fontstyle: [ 'normal' | 'italic' | 'oblique']         \n",
      "  text: string or anything printable with '%s' conversion.         \n",
      "  transform: :class:`~matplotlib.transforms.Transform` instance         \n",
      "  url: a url string         \n",
      "  variant or fontvariant: [ 'normal' | 'small-caps' ]         \n",
      "  verticalalignment or va or ma: [ 'center' | 'top' | 'bottom' | 'baseline' ]         \n",
      "  visible: [True | False]         \n",
      "  weight or fontweight: [a numeric value in range 0-1000 | 'ultralight' | 'light' |                   'normal' | 'regular' | 'book' | 'medium' | 'roman' |                   'semibold' | 'demibold' | 'demi' | 'bold' | 'heavy' |                   'extra bold' | 'black' ]         \n",
      "  x: float         \n",
      "  y: float         \n",
      "  zorder: any number         \n"
     ]
    },
    {
     "data": {
      "image/png": "[encoded data removed]",
      "text/plain": [
       "<matplotlib.figure.Figure at 0x7f29ca544850>"
      ]
     },
     "metadata": {},
     "output_type": "display_data"
    }
   ],
   "source": [
    "\n",
    "\n",
    "# Create boxplot of anomalies.\n",
    "fig1, ax1 = plt.subplots()\n",
    "\n",
    "bp = plt.boxplot(anomaly)\n",
    "plt.axis([0.5, 2.5, -1., 1.])\n",
    "plt.setp(bp['boxes'], color='red')\n",
    "plt.setp(bp['whiskers'], color='red',linestyle='-')\n",
    "plt.setp(bp['caps'], color='red')\n",
    "\n",
    "plt.plot(ones(anomaly[0].size),anomaly[0],'ro')\n",
    "plt.plot(1, mean(anomaly[0]),'ko',alpha=0.7)\n",
    "plt.plot(ones(anomaly[1].size)*2,anomaly[1],'ro')\n",
    "plt.plot(2, mean(anomaly[1]),'ko')\n",
    "\n",
    "plt.setp(plt.setp(ax1, xticklabels=['2030-2039','2050-59']))\n",
    "plt.xlabel('Time Period')\n",
    "plt.ylabel('Precip Anomaly (mm) - rel. to 1970-1999')\n",
    "plt.title('Precipitation Anomalies for RCP8.5 - Boise, ID')\n",
    "\n",
    "plt.savefig('precip_RCP85_Boise.png')\n",
    "\n"
   ]
  },
  {
   "cell_type": "code",
   "execution_count": null,
   "metadata": {
    "collapsed": true
   },
   "outputs": [],
   "source": [
    "\n",
    "\n"
   ]
  }
 ],
 "metadata": {
  "kernelspec": {
   "display_name": "Python 2",
   "language": "python",
   "name": "python2"
  },
  "language_info": {
   "codemirror_mode": {
    "name": "ipython",
    "version": 2
   },
   "file_extension": ".py",
   "mimetype": "text/x-python",
   "name": "python",
   "nbconvert_exporter": "python",
   "pygments_lexer": "ipython2",
   "version": "2.7.10"
  }
 },
 "nbformat": 4,
 "nbformat_minor": 0
}
